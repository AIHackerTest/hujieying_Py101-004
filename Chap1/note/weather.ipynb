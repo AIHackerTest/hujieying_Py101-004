{
 "cells": [
  {
   "cell_type": "markdown",
   "metadata": {},
   "source": [
    "# ch1 天气程序CLI"
   ]
  },
  {
   "cell_type": "markdown",
   "metadata": {},
   "source": [
    "## 任务说明\n",
    "\n",
    "### 完成一个最简天气查询程序，运行在命令行界面，实现以下功能：\n",
    "\n",
    "* 输入城市名，返回该城市的天气数据；\n",
    "* 输入指令，打印帮助文档（一般使用 h 或 help）；\n",
    "* 输入指令，退出程序的交互（一般使用 quit 或 exit）；\n",
    "* 在退出程序之前，打印查询过的所有城市。\n",
    "* 所用天气数据见 https://github.com/AIHackers/Py101-004/tree/master/Chap1/resource 中 weather_info.txt 文件。"
   ]
  },
  {
   "cell_type": "markdown",
   "metadata": {
    "collapsed": true
   },
   "source": [
    "## 开始任务\n",
    "\n",
    "### 分析\n",
    "* 需要完成四个功能点，在这之前需要先导入天气数据：参考LPTHW文件相关操作，考虑使用open()和read()\n",
    "* 输入城市名，返回天气数据：首先想到使用‘字典’。\n",
    "* 输入指令，打印帮助文档（一般使用 h 或 help）：提示用户可以输入help获取帮助，用if判断。\n",
    "* 输入指令，退出程序的交互（一般使用 quit 或 exit）\n",
    "* 在退出程序之前，打印查询过的所有城市：那就是说用户一边输入程序应该一边记录，这里可以使用另一个字典来保存。\n",
    "\n",
    "#### 参考内容：\n",
    "* [7. Input and Output — Python 3.6.2 documentation](https://docs.python.org/3.6/tutorial/inputoutput.html#reading-and-writing-files)\n",
    "* [read(),readline(),readlines()用法](http://blog.csdn.net/werm520/article/details/6898473) \n"
   ]
  },
  {
   "cell_type": "markdown",
   "metadata": {},
   "source": [
    "#### 1. 读取文件内容然后再存入到字典中。\n",
    "> 先定义一个空的字典叫weather_dic。\n",
    "\n",
    "> 打开文件，我看了一下官方文件发现可以使用with...as来打开，所以拿来试一试，使用with..as可以不用close文件。。\n",
    "\n",
    "> 读取文件有三种方式.read(),.readlines(),.readline()，区别可以通过下面三段代码看出。对比后发现使用.readlines()合适。\n",
    "\n",
    "> 读出数据是列表形式，方便后面存入到字典中。我用key_info表示城市，value_info表示天气。用split()通过逗号切分数据。因为读出的列表形式的数据里面有换行符，所以用rstrip()去掉换行符。然后将读出的值赋给字典。\n",
    "\n",
    "> 这里用两个print打印看看读出文件和写到字典的数据样子。"
   ]
  },
  {
   "cell_type": "code",
   "execution_count": 1,
   "metadata": {},
   "outputs": [
    {
     "name": "stdout",
     "output_type": "stream",
     "text": [
      "['北京,晴\\n', '海淀,晴\\n', '朝阳,晴\\n', '顺义,晴\\n', '怀柔,晴\\n']\n",
      "{'北京': '晴', '海淀': '晴', '朝阳': '晴', '顺义': '晴', '怀柔': '晴'}\n"
     ]
    }
   ],
   "source": [
    "weather_dic = {}\n",
    "with open('weather_info_test.txt') as file:\n",
    "    read_data = file.readlines()\n",
    "    print(read_data)\n",
    "    for line in read_data:\n",
    "        key_info = line.split(',')[0]\n",
    "        value_info = line.split(',')[1].rstrip('\\n')\n",
    "        weather_dic[key_info] = value_info\n",
    "    print(weather_dic)"
   ]
  },
  {
   "cell_type": "markdown",
   "metadata": {},
   "source": [
    "*  .read() 每次读取整个文件，它通常用于将文件内容放到一个字符串变量中。\n",
    "* 可以看到读出的文件打印出来就是txt里面看见的样子，这样后面无法使用列表下标取值。所以报错"
   ]
  },
  {
   "cell_type": "code",
   "execution_count": 2,
   "metadata": {},
   "outputs": [
    {
     "name": "stdout",
     "output_type": "stream",
     "text": [
      "北京,晴\n",
      "海淀,晴\n",
      "朝阳,晴\n",
      "顺义,晴\n",
      "怀柔,晴\n",
      "\n"
     ]
    },
    {
     "ename": "IndexError",
     "evalue": "list index out of range",
     "output_type": "error",
     "traceback": [
      "\u001b[0;31m---------------------------------------------------------------------------\u001b[0m",
      "\u001b[0;31mIndexError\u001b[0m                                Traceback (most recent call last)",
      "\u001b[0;32m<ipython-input-2-042ccb7bb698>\u001b[0m in \u001b[0;36m<module>\u001b[0;34m()\u001b[0m\n\u001b[1;32m      5\u001b[0m     \u001b[0;32mfor\u001b[0m \u001b[0mline\u001b[0m \u001b[0;32min\u001b[0m \u001b[0mread_data\u001b[0m\u001b[0;34m:\u001b[0m\u001b[0;34m\u001b[0m\u001b[0m\n\u001b[1;32m      6\u001b[0m         \u001b[0mkey_info\u001b[0m \u001b[0;34m=\u001b[0m \u001b[0mline\u001b[0m\u001b[0;34m.\u001b[0m\u001b[0msplit\u001b[0m\u001b[0;34m(\u001b[0m\u001b[0;34m','\u001b[0m\u001b[0;34m)\u001b[0m\u001b[0;34m[\u001b[0m\u001b[0;36m0\u001b[0m\u001b[0;34m]\u001b[0m\u001b[0;34m\u001b[0m\u001b[0m\n\u001b[0;32m----> 7\u001b[0;31m         \u001b[0mvalue_info\u001b[0m \u001b[0;34m=\u001b[0m \u001b[0mline\u001b[0m\u001b[0;34m.\u001b[0m\u001b[0msplit\u001b[0m\u001b[0;34m(\u001b[0m\u001b[0;34m','\u001b[0m\u001b[0;34m)\u001b[0m\u001b[0;34m[\u001b[0m\u001b[0;36m1\u001b[0m\u001b[0;34m]\u001b[0m\u001b[0;34m.\u001b[0m\u001b[0mrstrip\u001b[0m\u001b[0;34m(\u001b[0m\u001b[0;34m'\\n'\u001b[0m\u001b[0;34m)\u001b[0m\u001b[0;34m\u001b[0m\u001b[0m\n\u001b[0m\u001b[1;32m      8\u001b[0m         \u001b[0mweather_dic\u001b[0m\u001b[0;34m[\u001b[0m\u001b[0mkey_info\u001b[0m\u001b[0;34m]\u001b[0m \u001b[0;34m=\u001b[0m \u001b[0mvalue_info\u001b[0m\u001b[0;34m\u001b[0m\u001b[0m\n\u001b[1;32m      9\u001b[0m     \u001b[0mprint\u001b[0m\u001b[0;34m(\u001b[0m\u001b[0mweather_dic\u001b[0m\u001b[0;34m)\u001b[0m\u001b[0;34m\u001b[0m\u001b[0m\n",
      "\u001b[0;31mIndexError\u001b[0m: list index out of range"
     ]
    }
   ],
   "source": [
    "weather_dic = {}\n",
    "with open('weather_info_test.txt') as file:\n",
    "    read_data = file.read()\n",
    "    print(read_data)\n",
    "    for line in read_data:\n",
    "        key_info = line.split(',')[0]\n",
    "        value_info = line.split(',')[1].rstrip('\\n')\n",
    "        weather_dic[key_info] = value_info\n",
    "    print(weather_dic)"
   ]
  },
  {
   "cell_type": "markdown",
   "metadata": {},
   "source": [
    "* 使用readlines，没有使用rstrip()，没有去掉换行符。"
   ]
  },
  {
   "cell_type": "code",
   "execution_count": 3,
   "metadata": {},
   "outputs": [
    {
     "name": "stdout",
     "output_type": "stream",
     "text": [
      "['北京,晴\\n', '海淀,晴\\n', '朝阳,晴\\n', '顺义,晴\\n', '怀柔,晴\\n']\n",
      "{'北京': '晴\\n', '海淀': '晴\\n', '朝阳': '晴\\n', '顺义': '晴\\n', '怀柔': '晴\\n'}\n"
     ]
    }
   ],
   "source": [
    "weather_dic = {}\n",
    "with open('weather_info_test.txt') as file:\n",
    "    read_data = file.readlines()\n",
    "    print(read_data)\n",
    "    for line in read_data:\n",
    "        key_info = line.split(',')[0]\n",
    "        #value_info = line.split(',')[1].rstrip('\\n')\n",
    "        value_info = line.split(',')[1]\n",
    "        weather_dic[key_info] = value_info\n",
    "    print(weather_dic)"
   ]
  },
  {
   "cell_type": "markdown",
   "metadata": {},
   "source": [
    "* 使用readline(),一行一行读数据。感觉可以一行一行读然后一行一行存入才对，还不知道怎么改。"
   ]
  },
  {
   "cell_type": "code",
   "execution_count": 4,
   "metadata": {},
   "outputs": [
    {
     "ename": "FileNotFoundError",
     "evalue": "[Errno 2] No such file or directory: 'weather_info.txt'",
     "output_type": "error",
     "traceback": [
      "\u001b[0;31m---------------------------------------------------------------------------\u001b[0m",
      "\u001b[0;31mFileNotFoundError\u001b[0m                         Traceback (most recent call last)",
      "\u001b[0;32m<ipython-input-4-84c7dd81229e>\u001b[0m in \u001b[0;36m<module>\u001b[0;34m()\u001b[0m\n\u001b[1;32m      1\u001b[0m \u001b[0mweather_dic\u001b[0m \u001b[0;34m=\u001b[0m \u001b[0;34m{\u001b[0m\u001b[0;34m}\u001b[0m\u001b[0;34m\u001b[0m\u001b[0m\n\u001b[0;32m----> 2\u001b[0;31m \u001b[0;32mwith\u001b[0m \u001b[0mopen\u001b[0m\u001b[0;34m(\u001b[0m\u001b[0;34m'weather_info.txt'\u001b[0m\u001b[0;34m)\u001b[0m \u001b[0;32mas\u001b[0m \u001b[0mfile\u001b[0m\u001b[0;34m:\u001b[0m\u001b[0;34m\u001b[0m\u001b[0m\n\u001b[0m\u001b[1;32m      3\u001b[0m     \u001b[0mread_data\u001b[0m \u001b[0;34m=\u001b[0m \u001b[0mfile\u001b[0m\u001b[0;34m.\u001b[0m\u001b[0mreadline\u001b[0m\u001b[0;34m(\u001b[0m\u001b[0;34m)\u001b[0m\u001b[0;34m\u001b[0m\u001b[0m\n\u001b[1;32m      4\u001b[0m     \u001b[0mprint\u001b[0m\u001b[0;34m(\u001b[0m\u001b[0mread_data\u001b[0m\u001b[0;34m)\u001b[0m\u001b[0;34m\u001b[0m\u001b[0m\n\u001b[1;32m      5\u001b[0m     \u001b[0;32mfor\u001b[0m \u001b[0mline\u001b[0m \u001b[0;32min\u001b[0m \u001b[0mread_data\u001b[0m\u001b[0;34m:\u001b[0m\u001b[0;34m\u001b[0m\u001b[0m\n",
      "\u001b[0;31mFileNotFoundError\u001b[0m: [Errno 2] No such file or directory: 'weather_info.txt'"
     ]
    }
   ],
   "source": [
    "weather_dic = {}\n",
    "with open('weather_info.txt') as file:\n",
    "    read_data = file.readline()\n",
    "    print(read_data)\n",
    "    for line in read_data:\n",
    "        key_info = line.split(',')[0]\n",
    "        value_info = line.split(',')[1].rstrip('\\n')\n",
    "        weather_dic[key_info] = value_info\n",
    "    print(weather_dic)"
   ]
  },
  {
   "cell_type": "markdown",
   "metadata": {
    "collapsed": true
   },
   "source": [
    "#### 2.用户输入内容返回相关信息\n",
    "> 我用if...else来实现\n",
    "> 重新定义一个字典存放用户查询过的信息。"
   ]
  },
  {
   "cell_type": "code",
   "execution_count": 24,
   "metadata": {},
   "outputs": [
    {
     "name": "stdout",
     "output_type": "stream",
     "text": [
      "['北京,晴\\n', '海淀,晴\\n', '朝阳,晴\\n', '顺义,晴\\n', '怀柔,晴\\n']\n",
      "{'北京': '晴', '海淀': '晴', '朝阳': '晴', '顺义': '晴', '怀柔': '晴'}\n",
      "请输入城市名称查询天气。如果需要帮助，请输入help获得帮助。\n",
      ">>>北京\n",
      "北京的天气是：晴\n",
      "请输入城市名称查询天气。如果需要帮助，请输入help获得帮助。\n",
      ">>>help\n",
      "------------\n",
      "输入城市名，查询该城市的天气；\n",
      "输入help，获取帮助文档；\n",
      "输入history，获取查询历史；\n",
      "输入quit，退出天气查询系统。\n",
      "------------\n",
      "请输入城市名称查询天气。如果需要帮助，请输入help获得帮助。\n",
      ">>>朝阳\n",
      "朝阳的天气是：晴\n",
      "请输入城市名称查询天气。如果需要帮助，请输入help获得帮助。\n",
      ">>>其他\n",
      "你输入的值有误，请重新输入\n",
      "请输入城市名称查询天气。如果需要帮助，请输入help获得帮助。\n",
      ">>>怀柔\n",
      "怀柔的天气是：晴\n",
      "请输入城市名称查询天气。如果需要帮助，请输入help获得帮助。\n",
      ">>>history\n",
      "这是你的搜索记录：\n",
      "dict_items([('北京', '晴'), ('朝阳', '晴'), ('怀柔', '晴')])\n",
      "{'北京': '晴', '朝阳': '晴', '怀柔': '晴'}\n",
      "请输入城市名称查询天气。如果需要帮助，请输入help获得帮助。\n",
      ">>>quit\n"
     ]
    }
   ],
   "source": [
    "#定义一个字典，然后将文件读出的内容存入到字典中。\n",
    "weather_dic = {}\n",
    "with open('weather_info_test.txt') as file:\n",
    "    read_data = file.readlines()\n",
    "    print(read_data)\n",
    "    for line in read_data:\n",
    "        key_info = line.split(',')[0]\n",
    "        value_info = line.split(',')[1].rstrip('\\n')\n",
    "        weather_dic[key_info] = value_info\n",
    "    print(weather_dic)\n",
    "\n",
    "#定义一个新字典存用户查询过的天气信息\n",
    "user_weather_dic = {}\n",
    "\n",
    "while True:\n",
    "    print('请输入城市名称查询天气。如果需要帮助，请输入help获得帮助。')\n",
    "    user_city = input('>>>')\n",
    "\n",
    "    if user_city in weather_dic:\n",
    "        user_weather = weather_dic[user_city]\n",
    "        print(user_city + '的天气是：' + user_weather)\n",
    "        user_weather_dic[user_city] = user_weather\n",
    "\n",
    "    elif user_city == 'history':\n",
    "        print('这是你的搜索记录：')\n",
    "#            for i in user_weather_dic:\n",
    "#                print(i, user_weather_dic[i])\n",
    "        print(user_weather_dic.items())\n",
    "        print(user_weather_dic)\n",
    "\n",
    "    elif user_city == 'help':\n",
    "        print('------------')\n",
    "        print('输入城市名，查询该城市的天气；')\n",
    "        print('输入help，获取帮助文档；')\n",
    "        print('输入history，获取查询历史；')\n",
    "        print('输入quit，退出天气查询系统。')\n",
    "        print('------------')\n",
    "\n",
    "    elif user_city == 'quit':\n",
    "        break\n",
    "\n",
    "    else:\n",
    "        print('你输入的值有误，请重新输入')"
   ]
  },
  {
   "cell_type": "markdown",
   "metadata": {
    "collapsed": true
   },
   "source": [
    "### 待解决问题\n",
    "\n",
    "1. 输出history格式需要调整为多行显示。\n",
    "2. 读取文件的方式是否是最优的。\n",
    "3. 文件数据有重复要怎么处理。"
   ]
  },
  {
   "cell_type": "markdown",
   "metadata": {
    "collapsed": true
   },
   "source": [
    "#### 解决问题1"
   ]
  },
  {
   "cell_type": "code",
   "execution_count": 3,
   "metadata": {},
   "outputs": [
    {
     "name": "stdout",
     "output_type": "stream",
     "text": [
      "请输入城市名称查询天气。如果需要帮助，请输入help获得帮助。\n",
      ">>>北京\n",
      "北京的天气是：晴\n",
      "请输入城市名称查询天气。如果需要帮助，请输入help获得帮助。\n",
      ">>>s\n",
      "你输入的值有误，请重新输入\n",
      "请输入城市名称查询天气。如果需要帮助，请输入help获得帮助。\n",
      ">>>朝阳\n",
      "朝阳的天气是：晴\n",
      "请输入城市名称查询天气。如果需要帮助，请输入help获得帮助。\n",
      ">>>help\n",
      "\n",
      "        输入城市名，查询该城市的天气；\n",
      "        输入help，获取帮助文档；\n",
      "        输入history，获取查询历史；\n",
      "        输入quit，退出天气查询系统。\n",
      "        \n",
      "请输入城市名称查询天气。如果需要帮助，请输入help获得帮助。\n",
      ">>>history\n",
      "这是你的搜索记录：\n",
      "北京 晴\n",
      "朝阳 晴\n",
      "请输入城市名称查询天气。如果需要帮助，请输入help获得帮助。\n",
      ">>>quit\n"
     ]
    }
   ],
   "source": [
    "#定义一个字典，然后将文件读出的内容存入到字典中。\n",
    "weather_dic = {}\n",
    "with open('weather_info_test.txt') as file:\n",
    "    read_data = file.readlines()\n",
    "    for line in read_data:\n",
    "        key_info = line.split(',')[0]\n",
    "        value_info = line.split(',')[1].rstrip('\\n')\n",
    "        weather_dic[key_info] = value_info\n",
    "\n",
    "#定义一个新字典存用户查询过的天气信息\n",
    "user_weather_dic = {}\n",
    "\n",
    "while True:\n",
    "    print('请输入城市名称查询天气。如果需要帮助，请输入help获得帮助。')\n",
    "    user_city = input('>>>')\n",
    "\n",
    "#查询天气\n",
    "    if user_city in weather_dic:\n",
    "        user_weather = weather_dic[user_city]\n",
    "        print(user_city + '的天气是：' + user_weather)\n",
    "        user_weather_dic[user_city] = user_weather\n",
    "\n",
    "#显示查询历史\n",
    "    elif user_city == 'history':\n",
    "        print('这是你的搜索记录：')\n",
    "        for user_city in user_weather_dic:\n",
    "            print(user_city, user_weather_dic[user_city])\n",
    "\n",
    "#显示帮助\n",
    "    elif user_city == 'help':\n",
    "        print(\n",
    "        '''\n",
    "        输入城市名，查询该城市的天气；\n",
    "        输入help，获取帮助文档；\n",
    "        输入history，获取查询历史；\n",
    "        输入quit，退出天气查询系统。\n",
    "        ''')\n",
    "\n",
    "#退出\n",
    "    elif user_city == 'quit':\n",
    "        break\n",
    "\n",
    "    else:\n",
    "        print('你输入的值有误，请重新输入')\n"
   ]
  },
  {
   "cell_type": "markdown",
   "metadata": {
    "collapsed": true
   },
   "source": [
    "#### 修改读取文件的代码"
   ]
  },
  {
   "cell_type": "code",
   "execution_count": 7,
   "metadata": {},
   "outputs": [
    {
     "name": "stdout",
     "output_type": "stream",
     "text": [
      "请输入城市名称查询天气。如果需要帮助，请输入help获得帮助。\n",
      ">>>北京\n",
      "北京的天气是：晴\n",
      "\n",
      "请输入城市名称查询天气。如果需要帮助，请输入help获得帮助。\n",
      ">>>海淀\n",
      "海淀的天气是：晴\n",
      "\n",
      "请输入城市名称查询天气。如果需要帮助，请输入help获得帮助。\n",
      ">>>dd\n",
      "你输入的值有误，请重新输入\n",
      "请输入城市名称查询天气。如果需要帮助，请输入help获得帮助。\n",
      ">>>help\n",
      "\n",
      "        输入城市名，查询该城市的天气；\n",
      "        输入help，获取帮助文档；\n",
      "        输入history，获取查询历史；\n",
      "        输入quit，退出天气查询系统。\n",
      "        \n",
      "请输入城市名称查询天气。如果需要帮助，请输入help获得帮助。\n",
      ">>>history\n",
      "这是你的搜索记录：\n",
      "北京 晴\n",
      "\n",
      "海淀 晴\n",
      "\n",
      "请输入城市名称查询天气。如果需要帮助，请输入help获得帮助。\n",
      ">>>quit\n",
      "退出程序，以下是你的查询历史：\n",
      "北京 晴\n",
      "\n",
      "海淀 晴\n",
      "\n"
     ]
    }
   ],
   "source": [
    "#定义一个字典，然后将文件读出的内容存入到字典中。\n",
    "weather_dic = {}\n",
    "\n",
    "with open('weather_info_test.txt') as f:\n",
    "    for line in f:\n",
    "        (key_info, value_info) = line.split(',')\n",
    "        weather_dic[key_info] = value_info\n",
    "\n",
    "#另一个方式\n",
    "#with open('weather_info.txt') as f:\n",
    "#    read_data = f.readlines()\n",
    "#    for line in read_data:\n",
    "#        key_info = line.split(',')[0]\n",
    "#        value_info = line.split(',')[1].rstrip('\\n')\n",
    "#        weather_dic[key_info] = value_info\n",
    "\n",
    "#定义一个新字典存用户查询过的天气信息\n",
    "user_weather_dic = {}\n",
    "\n",
    "while True:\n",
    "    print('请输入城市名称查询天气。如果需要帮助，请输入help获得帮助。')\n",
    "    user_city = input('>>>')\n",
    "\n",
    "#查询天气\n",
    "    if user_city in weather_dic:\n",
    "        user_weather = weather_dic[user_city]\n",
    "        print(user_city + '的天气是：' + user_weather)\n",
    "        user_weather_dic[user_city] = user_weather\n",
    "\n",
    "#显示查询历史\n",
    "    elif user_city == 'history':\n",
    "        print('这是你的搜索记录：')\n",
    "        for user_city in user_weather_dic:\n",
    "            print(user_city, user_weather_dic[user_city])\n",
    "\n",
    "#显示帮助\n",
    "    elif user_city == 'help':\n",
    "        print(\n",
    "        '''\n",
    "        输入城市名，查询该城市的天气；\n",
    "        输入help，获取帮助文档；\n",
    "        输入history，获取查询历史；\n",
    "        输入quit，退出天气查询系统。\n",
    "        ''')\n",
    "\n",
    "#退出\n",
    "    elif user_city == 'quit':\n",
    "        print(\"退出程序，以下是你的查询历史：\")\n",
    "        for user_city in user_weather_dic:\n",
    "            print(user_city, user_weather_dic[user_city])\n",
    "        break\n",
    "\n",
    "    else:\n",
    "        print('你输入的值有误，请重新输入')"
   ]
  },
  {
   "cell_type": "code",
   "execution_count": null,
   "metadata": {
    "collapsed": true
   },
   "outputs": [],
   "source": []
  }
 ],
 "metadata": {
  "kernelspec": {
   "display_name": "Python 3",
   "language": "python",
   "name": "python3"
  },
  "language_info": {
   "codemirror_mode": {
    "name": "ipython",
    "version": 3
   },
   "file_extension": ".py",
   "mimetype": "text/x-python",
   "name": "python",
   "nbconvert_exporter": "python",
   "pygments_lexer": "ipython3",
   "version": "3.6.1"
  }
 },
 "nbformat": 4,
 "nbformat_minor": 2
}
