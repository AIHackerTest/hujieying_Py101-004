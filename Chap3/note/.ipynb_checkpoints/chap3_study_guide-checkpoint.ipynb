{
 "cells": [
  {
   "cell_type": "markdown",
   "metadata": {},
   "source": [
    "# chap3任务学习记录"
   ]
  },
  {
   "cell_type": "markdown",
   "metadata": {},
   "source": [
    "## 00 任务说明\n",
    "\n",
    "### 基础任务：\n",
    "\n",
    "#### 1.完成一个网页版天气查询程序\n",
    "* 实现以下功能：\n",
    "\n",
    "    基本功能\n",
    "        输入城市名，获取该城市最新天气情况\n",
    "        点击「帮助」，获取帮助信息\n",
    "        点击「历史」，获取历史查询信息\n",
    "    部署在命令行界面\n",
    "    \n",
    "* 附上软件使用说明书 README.md，能令其他同学根据说明书运行程序，使用所有功能。\n",
    "\n",
    "#### 2.撰写个人教程，讲解相关技能点，分享自己的探索发现：\n",
    "\n",
    "* 实现这版程序的关键是什么？难点是什么？\n",
    "\n",
    "    为什么这对你来说是难点？\n",
    "    \n",
    "    如何突破这个难点？\n",
    "    \n",
    "    \n",
    "* 完成这版程序，容易踩的坑是什么？\n",
    "\n",
    "* 完成这版程序，有什么通用的模式（即永久性解决所有同类问题的方法）？\n",
    "\n",
    "* ……\n",
    "\n",
    "#### 3.根据 自评维度 给楼上同学一些反馈。\n",
    "\n",
    "### 进阶任务：\n",
    "\n",
    "学有余力，请尝试让你的 Web 应用适配移动端，让用户在手机上使用，也有良好的体验。"
   ]
  },
  {
   "cell_type": "markdown",
   "metadata": {
    "collapsed": true
   },
   "source": [
    "### 本章的知识地图：\n",
    "\n",
    "    * Flask 框架初接触\n",
    "        使用 Flask 完成 HelloWorld 页面\n",
    "            ~直接使用 return 返回页面内容\n",
    "    * 为网页添加路由\n",
    "        使用 route( ) 修饰器\n",
    "        为不同的链接定义不同的函数\n",
    "    * 搭建基本 HTML 页面\n",
    "        HTML 基础知识\n",
    "        HTML 页面最小必备要素\n",
    "        使用 CSS 修饰 HTML 页面\n",
    "        使用 Bootstrap 、UIkit 搭建页面（可选）\n",
    "    * 使用表单，实现互动\n",
    "        使用 Html 原生表单组件\n",
    "            ~常用的输入框 <input />, 按钮 <button></button>, 超链接 <a></a> 等\n",
    "            ~表单 <form></form>, 容器 <div></div>\n",
    "            ~使用 CSS 美化表单\n",
    "        使用 Flask-WTF 和 wtforms 扩展（可选）\n",
    "            ~继承 Flask-WTF 的 FlaskForm 类来自定义表单\n",
    "            ~定义表单项目\n",
    "                wtforms 的 StringField, SubmitField, SelectField 等等\n",
    "            ~为表单增加验证器\n",
    "                wtforms.validators\n",
    "    * 网页模板的使用\n",
    "        页面模板的定义\n",
    "        为模板传入变量\n",
    "        在模板中使用表单\n",
    "            ~{{ form.name.label }} {{ form.name }}\n",
    "    * 进阶任务：使用 Bootstrap 框架（可选）\n",
    "        安装和使用 Bootstrap\n",
    "        在页面模板中引用 Bootstrap\n",
    "        引入 Flask-WTF 快速绘制表单"
   ]
  },
  {
   "cell_type": "markdown",
   "metadata": {
    "collapsed": true
   },
   "source": [
    "## 01 认识web框架--Flask\n",
    "\n",
    "* web框架将一些复杂的底层操作封装起来，提供各种便捷的工具、方法、代码，帮助我们快速开发Web应用程序。\n",
    "* 本章学习使用Flask来搭建天气程序。\n",
    "* 从Flask快速开始文档获取基础知识：[快速入门](http://docs.jinkan.org/docs/flask/quickstart.html)&[flask quickstart](http://flask.pocoo.org/docs/0.12/quickstart/#)"
   ]
  },
  {
   "cell_type": "code",
   "execution_count": null,
   "metadata": {
    "collapsed": true
   },
   "outputs": [],
   "source": [
    "from flask import Flask\n",
    "app = Flask(__name__)\n",
    "\n",
    "@app.route('/')\n",
    "def hello_world():\n",
    "    return 'Hello World!'\n",
    "\n",
    "if __name__ == '__main__':\n",
    "    app.run(debug=True)"
   ]
  },
  {
   "cell_type": "markdown",
   "metadata": {},
   "source": [
    "* 通过浏览器访问http://127.0.0.1:5000/ ，可以看到页面返回的内容。\n",
    "* 这里使用route()装饰器告诉flask什么样的url能触发下面这个函数，即实现路由功能，引导web程序跳转到不同的url下，实现不同操作。\n",
    "* 通过debug=True来启用调试模式，避免开发过程中反复重启程序。"
   ]
  },
  {
   "cell_type": "markdown",
   "metadata": {},
   "source": [
    "### 搭我们需要的框架"
   ]
  },
  {
   "cell_type": "markdown",
   "metadata": {},
   "source": [
    "* 这里我们构想，使用两个url来完成程序，第一个就是主页，第二个就是我们程序需要实现的几个功能：查询、历史、帮助。\n",
    "* 所以下面先构建两个路由地址，通过访问不同的url，实现不同的效果。"
   ]
  },
  {
   "cell_type": "code",
   "execution_count": null,
   "metadata": {
    "collapsed": true
   },
   "outputs": [],
   "source": [
    "# -*-coding:utf-8-*-\n",
    "from flask import Flask\n",
    "app = Flask(__name__)\n",
    "\n",
    "@app.route('/')\n",
    "def home():\n",
    "    return 'home'\n",
    "\n",
    "@app.route('/query/')\n",
    "def weather():\n",
    "    return 'sssss'\n",
    "\n",
    "if __name__ == '__main__':\n",
    "    app.run(debug=True)"
   ]
  },
  {
   "cell_type": "markdown",
   "metadata": {},
   "source": [
    "## 02 搭建基本的html页面\n",
    "\n",
    "* 需要学习搭建简单的html页面，然后使用css来装饰页面。基础学习可以参考[w3school的内容很详细清楚]{http://www.w3school.com.cn/html/}\n",
    "* "
   ]
  },
  {
   "cell_type": "code",
   "execution_count": null,
   "metadata": {
    "collapsed": true
   },
   "outputs": [],
   "source": []
  },
  {
   "cell_type": "code",
   "execution_count": null,
   "metadata": {
    "collapsed": true
   },
   "outputs": [],
   "source": []
  },
  {
   "cell_type": "code",
   "execution_count": null,
   "metadata": {
    "collapsed": true
   },
   "outputs": [],
   "source": []
  },
  {
   "cell_type": "code",
   "execution_count": null,
   "metadata": {
    "collapsed": true
   },
   "outputs": [],
   "source": []
  }
 ],
 "metadata": {
  "kernelspec": {
   "display_name": "Python 3",
   "language": "python",
   "name": "python3"
  },
  "language_info": {
   "codemirror_mode": {
    "name": "ipython",
    "version": 3
   },
   "file_extension": ".py",
   "mimetype": "text/x-python",
   "name": "python",
   "nbconvert_exporter": "python",
   "pygments_lexer": "ipython3",
   "version": "3.6.1"
  }
 },
 "nbformat": 4,
 "nbformat_minor": 2
}
