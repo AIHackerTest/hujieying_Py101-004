{
 "cells": [
  {
   "cell_type": "markdown",
   "metadata": {},
   "source": [
    "# Chap2任务学习记录\n",
    "\n",
    "## 00 任务说明\n",
    "#### 本章基础任务：利用API，完成一个在命令行界面下天气查询程序，实现以下功能：\n",
    "\n",
    "* 输入城市名，返回该城市最新的天气数据；\n",
    "* 输入指令，获取帮助信息（一般使用 h 或 help）；\n",
    "* 输入指令，获取历史查询信息（一般使用 history）；\n",
    "* 输入指令，退出程序的交互（一般使用 quit 或 exit）；\n",
    "* 获取更多维度的信息。\n",
    "\n",
    "提交时需包含软件使用说明书 README.md， 能令其他同学根据说明书运行程序，使用所有功能。\n",
    "\n",
    "\n",
    "### 思路\n",
    "1. 选择合适的天气API；\n",
    "2. 从网站下载JSON天气数据，使用request.get()函数；\n",
    "3. 将JSON数据字符串转化为Python的数据结构，并存储到本地文件中；\n",
    "4. 根据用户输入打印相关内容。\n",
    "\n",
    "### 相关资料\n",
    "[JSON官方文档](http://www.json.org/)\n",
    "\n",
    "[JSON 语法 - w3school](http://www.w3school.com.cn/json/index.asp)\n",
    "\n",
    "[19.2. json — JSON encoder and decoder — Python 3.6.2 documentation](https://docs.python.org/3/library/json.html?highlight=json#module-json)"
   ]
  },
  {
   "cell_type": "markdown",
   "metadata": {},
   "source": [
    "## 01 what is API?\n",
    "\n",
    "### 1.相关资料\n",
    "[What is an API? - Youtube](https://www.youtube.com/watch?v=s7wmiS2mSXY)\n",
    "\n",
    "[API：应用程序接口](https://zh.wikipedia.org/wiki/%E5%BA%94%E7%94%A8%E7%A8%8B%E5%BA%8F%E6%8E%A5%E5%8F%A3)\n",
    "\n",
    "[Application_programming_interface](https://en.wikipedia.org/wiki/Application_programming_interface)\n",
    "\n",
    "[API store](http://apistore.baidu.com/)\n",
    "\n",
    "[]()\n",
    "\n",
    "### 2.about API\n",
    "> API：Application Programming Interface\n",
    "\n",
    "> “‘电脑操作系统（Operating system）’或‘程序库’提供给应用程序调用使用的代码”。其主要目的是让应用程序开发人员得以调用一组例程功能，而无须考虑其底层的源代码为何、或理解其内部工作机制的细节。API本身是抽象的，它仅定义了一个接口，而不涉及应用程序在实际实现过程中的具体操作。\n",
    "\n",
    "> API又分为（Windows、Linux、Unix等系统的）系统级API，及非操作系统级的自定义API。\n",
    "\n",
    "### 3.选择合适的api\n",
    "* 教练提供了3个，由于现用户输入的为中文，所以选择天气数据维度更多的心知天气。然后从中选择以下两个免费的API\n",
    "* /weather/daily.json 和 /life/suggestion.json生活指数\n",
    "\n"
   ]
  },
  {
   "cell_type": "markdown",
   "metadata": {
    "collapsed": true
   },
   "source": [
    "## 02 使用requests调用API\n",
    "\n",
    "* 这只是python调用api的一种方式，还可以通过官方标准库urllib进行接口的调用（有编程书上写不建议使用，因为用起来太复杂）。"
   ]
  },
  {
   "cell_type": "markdown",
   "metadata": {
    "collapsed": true
   },
   "source": [
    "### 1.安装requests模块"
   ]
  },
  {
   "cell_type": "markdown",
   "metadata": {},
   "source": [
    "在命令行运行以下代码进行安装：\n",
    "\n",
    "> pip3 install requests\n",
    "\n",
    "安装完成后，在终端进入python输入以下内容，若无报错表示安装成功：\n",
    "\n",
    "> import requests"
   ]
  },
  {
   "cell_type": "markdown",
   "metadata": {},
   "source": [
    "### 2. requests的基本用法"
   ]
  },
  {
   "cell_type": "markdown",
   "metadata": {},
   "source": [
    "#### 2.1 用requests.get()函数下载网页"
   ]
  },
  {
   "cell_type": "code",
   "execution_count": 1,
   "metadata": {},
   "outputs": [
    {
     "data": {
      "text/plain": [
       "requests.models.Response"
      ]
     },
     "execution_count": 1,
     "metadata": {},
     "output_type": "execute_result"
    }
   ],
   "source": [
    "import requests\n",
    "res = requests.get('http://www.gutenberg.org/cache/epub/1112/pg1112.txt')\n",
    "type(res)"
   ]
  },
  {
   "cell_type": "code",
   "execution_count": 2,
   "metadata": {},
   "outputs": [
    {
     "data": {
      "text/plain": [
       "True"
      ]
     },
     "execution_count": 2,
     "metadata": {},
     "output_type": "execute_result"
    }
   ],
   "source": [
    "res.status_code == requests.codes.ok"
   ]
  },
  {
   "cell_type": "code",
   "execution_count": 3,
   "metadata": {},
   "outputs": [
    {
     "data": {
      "text/plain": [
       "178981"
      ]
     },
     "execution_count": 3,
     "metadata": {},
     "output_type": "execute_result"
    }
   ],
   "source": [
    "len(res.text)"
   ]
  },
  {
   "cell_type": "code",
   "execution_count": 4,
   "metadata": {},
   "outputs": [
    {
     "name": "stdout",
     "output_type": "stream",
     "text": [
      "﻿The Project Gutenberg EBook of Romeo and Juliet, by William Shakespeare\r\n",
      "\r\n",
      "This eBook is for the use of anyone anywhere at no cost and with\r\n",
      "almost no restrictions whatsoever.  You may copy it, give it away or\r\n",
      "re-use it under the terms of the Project Gutenbe\n"
     ]
    }
   ],
   "source": [
    "print(res.text[:260])"
   ]
  },
  {
   "cell_type": "markdown",
   "metadata": {},
   "source": [
    "#### 2.2 检查错误"
   ]
  },
  {
   "cell_type": "code",
   "execution_count": 5,
   "metadata": {},
   "outputs": [
    {
     "ename": "HTTPError",
     "evalue": "404 Client Error: Not Found for url: http://inventwithpython.com/page_that_does_not_exist",
     "output_type": "error",
     "traceback": [
      "\u001b[0;31m---------------------------------------------------------------------------\u001b[0m",
      "\u001b[0;31mHTTPError\u001b[0m                                 Traceback (most recent call last)",
      "\u001b[0;32m<ipython-input-5-a973a2cccd39>\u001b[0m in \u001b[0;36m<module>\u001b[0;34m()\u001b[0m\n\u001b[1;32m      1\u001b[0m \u001b[0mres\u001b[0m \u001b[0;34m=\u001b[0m \u001b[0mrequests\u001b[0m\u001b[0;34m.\u001b[0m\u001b[0mget\u001b[0m\u001b[0;34m(\u001b[0m\u001b[0;34m'http://inventwithpython.com/page_that_does_not_exist'\u001b[0m\u001b[0;34m)\u001b[0m\u001b[0;34m\u001b[0m\u001b[0m\n\u001b[0;32m----> 2\u001b[0;31m \u001b[0mres\u001b[0m\u001b[0;34m.\u001b[0m\u001b[0mraise_for_status\u001b[0m\u001b[0;34m(\u001b[0m\u001b[0;34m)\u001b[0m\u001b[0;34m\u001b[0m\u001b[0m\n\u001b[0m",
      "\u001b[0;32m~/anaconda/envs/python36/lib/python3.6/site-packages/requests/models.py\u001b[0m in \u001b[0;36mraise_for_status\u001b[0;34m(self)\u001b[0m\n\u001b[1;32m    926\u001b[0m \u001b[0;34m\u001b[0m\u001b[0m\n\u001b[1;32m    927\u001b[0m         \u001b[0;32mif\u001b[0m \u001b[0mhttp_error_msg\u001b[0m\u001b[0;34m:\u001b[0m\u001b[0;34m\u001b[0m\u001b[0m\n\u001b[0;32m--> 928\u001b[0;31m             \u001b[0;32mraise\u001b[0m \u001b[0mHTTPError\u001b[0m\u001b[0;34m(\u001b[0m\u001b[0mhttp_error_msg\u001b[0m\u001b[0;34m,\u001b[0m \u001b[0mresponse\u001b[0m\u001b[0;34m=\u001b[0m\u001b[0mself\u001b[0m\u001b[0;34m)\u001b[0m\u001b[0;34m\u001b[0m\u001b[0m\n\u001b[0m\u001b[1;32m    929\u001b[0m \u001b[0;34m\u001b[0m\u001b[0m\n\u001b[1;32m    930\u001b[0m     \u001b[0;32mdef\u001b[0m \u001b[0mclose\u001b[0m\u001b[0;34m(\u001b[0m\u001b[0mself\u001b[0m\u001b[0;34m)\u001b[0m\u001b[0;34m:\u001b[0m\u001b[0;34m\u001b[0m\u001b[0m\n",
      "\u001b[0;31mHTTPError\u001b[0m: 404 Client Error: Not Found for url: http://inventwithpython.com/page_that_does_not_exist"
     ]
    }
   ],
   "source": [
    "res = requests.get('http://inventwithpython.com/page_that_does_not_exist')\n",
    "res.raise_for_status()"
   ]
  },
  {
   "cell_type": "code",
   "execution_count": 6,
   "metadata": {},
   "outputs": [
    {
     "name": "stdout",
     "output_type": "stream",
     "text": [
      "There was a problem: 404 Client Error: Not Found for url: http://inventwithpython.com/page_that_does_not_exist\n"
     ]
    }
   ],
   "source": [
    "import requests\n",
    "res = requests.get('http://inventwithpython.com/page_that_does_not_exist')\n",
    "try:\n",
    "    res.raise_for_status()\n",
    "except Exception as exc:\n",
    "    print('There was a problem: %s' % (exc))"
   ]
  },
  {
   "cell_type": "markdown",
   "metadata": {},
   "source": [
    "### 3.调用api返回数据\n",
    "\n",
    "* 相关资料\n",
    "[读写JSON数据](http://python3-cookbook.readthedocs.io/zh_CN/latest/c06/p02_read-write_json_data.html)"
   ]
  },
  {
   "cell_type": "markdown",
   "metadata": {},
   "source": [
    "#### 3.1 返回数据\n",
    "* 先返回数据看看数据格式是怎样的。通过API获取的json数据在10行打印出来，发现非常乱；然后可以通过json.loads()将其转为python数据的格式，还是很乱；遂google得使用pprint可以打印更美观。结果乍一看，好像是字典和列表的混合，用type()看一下类型发现是dict，所以我们可以用字典的读取方式来读取数据啦。\n",
    "* 这里的地点套了好几层。"
   ]
  },
  {
   "cell_type": "code",
   "execution_count": 7,
   "metadata": {},
   "outputs": [
    {
     "name": "stdout",
     "output_type": "stream",
     "text": [
      "{\"results\":[{\"location\":{\"id\":\"WM6N2PM3WY2K\",\"name\":\"成都\",\"country\":\"CN\",\"path\":\"成都,成都,四川,中国\",\"timezone\":\"Asia/Shanghai\",\"timezone_offset\":\"+08:00\"},\"daily\":[{\"date\":\"2017-08-25\",\"text_day\":\"中雨\",\"code_day\":\"14\",\"text_night\":\"中雨\",\"code_night\":\"14\",\"high\":\"27\",\"low\":\"22\",\"precip\":\"\",\"wind_direction\":\"无持续风向\",\"wind_direction_degree\":\"\",\"wind_speed\":\"10\",\"wind_scale\":\"2\"},{\"date\":\"2017-08-26\",\"text_day\":\"小雨\",\"code_day\":\"13\",\"text_night\":\"小雨\",\"code_night\":\"13\",\"high\":\"28\",\"low\":\"23\",\"precip\":\"\",\"wind_direction\":\"无持续风向\",\"wind_direction_degree\":\"\",\"wind_speed\":\"10\",\"wind_scale\":\"2\"},{\"date\":\"2017-08-27\",\"text_day\":\"小雨\",\"code_day\":\"13\",\"text_night\":\"小雨\",\"code_night\":\"13\",\"high\":\"29\",\"low\":\"23\",\"precip\":\"\",\"wind_direction\":\"无持续风向\",\"wind_direction_degree\":\"\",\"wind_speed\":\"10\",\"wind_scale\":\"2\"}],\"last_update\":\"2017-08-25T11:00:00+08:00\"}]}\n",
      "{'results': [{'location': {'id': 'WM6N2PM3WY2K', 'name': '成都', 'country': 'CN', 'path': '成都,成都,四川,中国', 'timezone': 'Asia/Shanghai', 'timezone_offset': '+08:00'}, 'daily': [{'date': '2017-08-25', 'text_day': '中雨', 'code_day': '14', 'text_night': '中雨', 'code_night': '14', 'high': '27', 'low': '22', 'precip': '', 'wind_direction': '无持续风向', 'wind_direction_degree': '', 'wind_speed': '10', 'wind_scale': '2'}, {'date': '2017-08-26', 'text_day': '小雨', 'code_day': '13', 'text_night': '小雨', 'code_night': '13', 'high': '28', 'low': '23', 'precip': '', 'wind_direction': '无持续风向', 'wind_direction_degree': '', 'wind_speed': '10', 'wind_scale': '2'}, {'date': '2017-08-27', 'text_day': '小雨', 'code_day': '13', 'text_night': '小雨', 'code_night': '13', 'high': '29', 'low': '23', 'precip': '', 'wind_direction': '无持续风向', 'wind_direction_degree': '', 'wind_speed': '10', 'wind_scale': '2'}], 'last_update': '2017-08-25T11:00:00+08:00'}]}\n",
      "{'results': [{'daily': [{'code_day': '14',\n",
      "                         'code_night': '14',\n",
      "                         'date': '2017-08-25',\n",
      "                         'high': '27',\n",
      "                         'low': '22',\n",
      "                         'precip': '',\n",
      "                         'text_day': '中雨',\n",
      "                         'text_night': '中雨',\n",
      "                         'wind_direction': '无持续风向',\n",
      "                         'wind_direction_degree': '',\n",
      "                         'wind_scale': '2',\n",
      "                         'wind_speed': '10'},\n",
      "                        {'code_day': '13',\n",
      "                         'code_night': '13',\n",
      "                         'date': '2017-08-26',\n",
      "                         'high': '28',\n",
      "                         'low': '23',\n",
      "                         'precip': '',\n",
      "                         'text_day': '小雨',\n",
      "                         'text_night': '小雨',\n",
      "                         'wind_direction': '无持续风向',\n",
      "                         'wind_direction_degree': '',\n",
      "                         'wind_scale': '2',\n",
      "                         'wind_speed': '10'},\n",
      "                        {'code_day': '13',\n",
      "                         'code_night': '13',\n",
      "                         'date': '2017-08-27',\n",
      "                         'high': '29',\n",
      "                         'low': '23',\n",
      "                         'precip': '',\n",
      "                         'text_day': '小雨',\n",
      "                         'text_night': '小雨',\n",
      "                         'wind_direction': '无持续风向',\n",
      "                         'wind_direction_degree': '',\n",
      "                         'wind_scale': '2',\n",
      "                         'wind_speed': '10'}],\n",
      "              'last_update': '2017-08-25T11:00:00+08:00',\n",
      "              'location': {'country': 'CN',\n",
      "                           'id': 'WM6N2PM3WY2K',\n",
      "                           'name': '成都',\n",
      "                           'path': '成都,成都,四川,中国',\n",
      "                           'timezone': 'Asia/Shanghai',\n",
      "                           'timezone_offset': '+08:00'}}]}\n"
     ]
    },
    {
     "data": {
      "text/plain": [
       "dict"
      ]
     },
     "execution_count": 7,
     "metadata": {},
     "output_type": "execute_result"
    }
   ],
   "source": [
    "import requests\n",
    "import json\n",
    "from pprint import pprint\n",
    "\n",
    "result = requests.get('https://api.seniverse.com/v3/weather/daily.json', params={\n",
    "        'key': 'mbghskqqeagdjdqt',\n",
    "        'location': '成都',\n",
    "        'language': 'zh-Hans',\n",
    "        'unit': 'c'\n",
    "    }, timeout=1)\n",
    "print(result.text)\n",
    "\n",
    "weather_data = json.loads(result.text)\n",
    "print(weather_data)\n",
    "\n",
    "pprint(weather_data)\n",
    "\n",
    "type(weather_data)"
   ]
  },
  {
   "cell_type": "code",
   "execution_count": 18,
   "metadata": {},
   "outputs": [
    {
     "name": "stdout",
     "output_type": "stream",
     "text": [
      "{'results': [{'last_update': '2017-08-25T13:40:30+08:00',\n",
      "              'location': {'country': 'CN',\n",
      "                           'id': 'WM6N2PM3WY2K',\n",
      "                           'name': '成都',\n",
      "                           'path': '成都,成都,四川,中国',\n",
      "                           'timezone': 'Asia/Shanghai',\n",
      "                           'timezone_offset': '+08:00'},\n",
      "              'suggestion': {'car_washing': {'brief': '不宜', 'details': ''},\n",
      "                             'dressing': {'brief': '舒适', 'details': ''},\n",
      "                             'flu': {'brief': '较易发', 'details': ''},\n",
      "                             'sport': {'brief': '较不宜', 'details': ''},\n",
      "                             'travel': {'brief': '一般', 'details': ''},\n",
      "                             'uv': {'brief': '最弱', 'details': ''}}}]}\n",
      "'较不宜'\n"
     ]
    }
   ],
   "source": [
    "import requests\n",
    "import json\n",
    "from pprint import pprint\n",
    "\n",
    "result = requests.get('https://api.seniverse.com/v3/life/suggestion.json', params={\n",
    "        'key': 'mbghskqqeagdjdqt',\n",
    "        'location': '成都',\n",
    "        'language': 'zh-Hans',\n",
    "        'unit': 'c'\n",
    "    }, timeout=1)\n",
    "\n",
    "weather_data = json.loads(result.text)\n",
    "pprint(weather_data)\n",
    "\n",
    "pprint(weather_data['results'][0]['suggestion']['sport']['brief'])"
   ]
  },
  {
   "cell_type": "markdown",
   "metadata": {
    "collapsed": true
   },
   "source": [
    "#### 3.2 调取我们需要的数据\n",
    "\n",
    "* 参考资料\n",
    "[python解析json](http://blog.csdn.net/xiaosongbk/article/details/52780851)\n",
    "\n",
    "* 原理：层层解析，想象字典和列表取值的方法。具体看代码！"
   ]
  },
  {
   "cell_type": "code",
   "execution_count": 46,
   "metadata": {},
   "outputs": [
    {
     "name": "stdout",
     "output_type": "stream",
     "text": [
      "{'results': [{'daily': [{'code_day': '9',\n",
      "                         'code_night': '14',\n",
      "                         'date': '2017-08-22',\n",
      "                         'high': '34',\n",
      "                         'low': '24',\n",
      "                         'precip': '',\n",
      "                         'text_day': '阴',\n",
      "                         'text_night': '中雨',\n",
      "                         'wind_direction': '无持续风向',\n",
      "                         'wind_direction_degree': '',\n",
      "                         'wind_scale': '2',\n",
      "                         'wind_speed': '10'},\n",
      "                        {'code_day': '13',\n",
      "                         'code_night': '13',\n",
      "                         'date': '2017-08-23',\n",
      "                         'high': '31',\n",
      "                         'low': '24',\n",
      "                         'precip': '',\n",
      "                         'text_day': '小雨',\n",
      "                         'text_night': '小雨',\n",
      "                         'wind_direction': '无持续风向',\n",
      "                         'wind_direction_degree': '',\n",
      "                         'wind_scale': '2',\n",
      "                         'wind_speed': '10'},\n",
      "                        {'code_day': '13',\n",
      "                         'code_night': '15',\n",
      "                         'date': '2017-08-24',\n",
      "                         'high': '31',\n",
      "                         'low': '22',\n",
      "                         'precip': '',\n",
      "                         'text_day': '小雨',\n",
      "                         'text_night': '大雨',\n",
      "                         'wind_direction': '无持续风向',\n",
      "                         'wind_direction_degree': '',\n",
      "                         'wind_scale': '2',\n",
      "                         'wind_speed': '10'}],\n",
      "              'last_update': '2017-08-22T11:00:00+08:00',\n",
      "              'location': {'country': 'CN',\n",
      "                           'id': 'WM6N2PM3WY2K',\n",
      "                           'name': '成都',\n",
      "                           'path': '成都,成都,四川,中国',\n",
      "                           'timezone': 'Asia/Shanghai',\n",
      "                           'timezone_offset': '+08:00'}}]}\n",
      "2017-08-22\n",
      "阴\n",
      "中雨\n",
      "无持续风向\n",
      "34\n",
      "24\n"
     ]
    }
   ],
   "source": [
    "import requests, json\n",
    "from pprint import pprint\n",
    "\n",
    "result = requests.get('https://api.seniverse.com/v3/weather/daily.json', params={\n",
    "        'key': 'mbghskqqeagdjdqt',\n",
    "        'location': '成都',\n",
    "        'language': 'zh-Hans',\n",
    "        'unit': 'c'\n",
    "    }, timeout=1)\n",
    "\n",
    "weather_data = json.loads(result.text)\n",
    "\n",
    "pprint(weather_data)\n",
    "print(weather_data['results'][0]['daily'][0]['date'])\n",
    "print(weather_data['results'][0]['daily'][0]['text_day'])\n",
    "type(weather_data['results'][0]['daily'][0]['text_day'])\n",
    "print(weather_data['results'][0]['daily'][0]['text_night'])\n",
    "print(weather_data['results'][0]['daily'][0]['wind_direction'])\n",
    "print(weather_data['results'][0]['daily'][0]['high'])\n",
    "print(weather_data['results'][0]['daily'][0]['low'])"
   ]
  },
  {
   "cell_type": "markdown",
   "metadata": {},
   "source": [
    "## 03 造程序"
   ]
  },
  {
   "cell_type": "markdown",
   "metadata": {},
   "source": [
    "### 1. 过程"
   ]
  },
  {
   "cell_type": "markdown",
   "metadata": {},
   "source": [
    "#### 1.1 读取数据\n",
    "* 包装成函数，测试一下，返回的是json数据："
   ]
  },
  {
   "cell_type": "code",
   "execution_count": 52,
   "metadata": {},
   "outputs": [
    {
     "name": "stdout",
     "output_type": "stream",
     "text": [
      "{\"results\":[{\"location\":{\"id\":\"WM6N2PM3WY2K\",\"name\":\"成都\",\"country\":\"CN\",\"path\":\"成都,成都,四川,中国\",\"timezone\":\"Asia/Shanghai\",\"timezone_offset\":\"+08:00\"},\"daily\":[{\"date\":\"2017-08-23\",\"text_day\":\"多云\",\"code_day\":\"4\",\"text_night\":\"小雨\",\"code_night\":\"13\",\"high\":\"32\",\"low\":\"23\",\"precip\":\"\",\"wind_direction\":\"无持续风向\",\"wind_direction_degree\":\"\",\"wind_speed\":\"10\",\"wind_scale\":\"2\"},{\"date\":\"2017-08-24\",\"text_day\":\"阵雨\",\"code_day\":\"10\",\"text_night\":\"小雨\",\"code_night\":\"13\",\"high\":\"32\",\"low\":\"23\",\"precip\":\"\",\"wind_direction\":\"无持续风向\",\"wind_direction_degree\":\"\",\"wind_speed\":\"10\",\"wind_scale\":\"2\"},{\"date\":\"2017-08-25\",\"text_day\":\"中雨\",\"code_day\":\"14\",\"text_night\":\"中雨\",\"code_night\":\"14\",\"high\":\"26\",\"low\":\"22\",\"precip\":\"\",\"wind_direction\":\"无持续风向\",\"wind_direction_degree\":\"\",\"wind_speed\":\"10\",\"wind_scale\":\"2\"}],\"last_update\":\"2017-08-23T11:00:00+08:00\"}]}\n"
     ]
    }
   ],
   "source": [
    "import requests\n",
    "\n",
    "def fetch_weather(location):\n",
    "    result = requests.get('https://api.seniverse.com/v3/weather/daily.json', params={\n",
    "        'key': 'mbghskqqeagdjdqt',\n",
    "        'location': location,\n",
    "        'language': 'zh-Hans',\n",
    "        'unit': 'c'\n",
    "    }, timeout=60)\n",
    "    return result.text\n",
    "\n",
    "print(fetch_weather('成都'))"
   ]
  },
  {
   "cell_type": "markdown",
   "metadata": {
    "collapsed": true
   },
   "source": [
    "#### 1.2 解析数据\n",
    "* 也包装成函数，测试一下，返回所需数据；由于读取数据返回的数据是json格式的，这个程序里面转换成python的数据，然后解析："
   ]
  },
  {
   "cell_type": "code",
   "execution_count": 40,
   "metadata": {},
   "outputs": [
    {
     "name": "stdout",
     "output_type": "stream",
     "text": [
      "成都2017-08-23的天气情况如下：\n",
      " 白天天气：多云\n",
      " 晚间天气：小雨\n",
      " 最高气温：31\n",
      " 最低气温：25\n",
      " 风向：无持续风向\n",
      "\n"
     ]
    }
   ],
   "source": [
    "import requests\n",
    "import json\n",
    "\n",
    "def fetch_weather(location):\n",
    "    result = requests.get('https://api.seniverse.com/v3/weather/daily.json', params={\n",
    "        'key': 'mbghskqqeagdjdqt',\n",
    "        'location': location,\n",
    "        'language': 'zh-Hans',\n",
    "        'unit': 'c'\n",
    "    }, timeout=60)\n",
    "    return result.text\n",
    "\n",
    "def process_weather(result):\n",
    "    weather_data = json.loads(result)\n",
    "    location = weather_data['results'][0]['location']['name']\n",
    "    date = weather_data['results'][0]['daily'][0]['date']\n",
    "    text_day = weather_data['results'][0]['daily'][0]['text_day']\n",
    "    text_night = weather_data['results'][0]['daily'][0]['text_night']\n",
    "    wind_direction = weather_data['results'][0]['daily'][0]['wind_direction']\n",
    "    high = weather_data['results'][0]['daily'][0]['high']\n",
    "    low = weather_data['results'][0]['daily'][0]['low']\n",
    "    weather_info = '{}{}的天气情况如下：\\n 白天天气：{}\\n 晚间天气：{}\\n 最高气温：{}\\n 最低气温：{}\\n 风向：{}\\n'.format(location, date, text_day, text_night, high, low, wind_direction)\n",
    "    return weather_info\n",
    "    \n",
    "print(process_weather(fetch_weather('成都')))"
   ]
  },
  {
   "cell_type": "markdown",
   "metadata": {
    "collapsed": true
   },
   "source": [
    "#### 1.3 使用用户输入数据查询\n",
    "\n",
    "* 这部分基本使用了上周作业的代码逻辑。对部分print的文字进行修改，期望更加符合现实情况，不违和。\n",
    "* 使用了try...except，能正常运行，但是再详细探索一下使用姿势是否正确。\n",
    "* 在不断修改细节地方，以使程序更优美。\n",
    "* 因之前的联系都没有使用函数，终于这周作业使用函数，算是开始进行函数练习了（捂脸），后面多练习，可以考虑把程序其他功能都改为函数方式。"
   ]
  },
  {
   "cell_type": "code",
   "execution_count": 5,
   "metadata": {},
   "outputs": [
    {
     "ename": "ModuleNotFoundError",
     "evalue": "No module named 'requests'",
     "output_type": "error",
     "traceback": [
      "\u001b[0;31m---------------------------------------------------------------------------\u001b[0m",
      "\u001b[0;31mModuleNotFoundError\u001b[0m                       Traceback (most recent call last)",
      "\u001b[0;32m<ipython-input-5-6153db3036aa>\u001b[0m in \u001b[0;36m<module>\u001b[0;34m()\u001b[0m\n\u001b[1;32m      1\u001b[0m \u001b[0;31m# -*- coding:utf-8 -*-\u001b[0m\u001b[0;34m\u001b[0m\u001b[0;34m\u001b[0m\u001b[0m\n\u001b[0;32m----> 2\u001b[0;31m \u001b[0;32mimport\u001b[0m \u001b[0mrequests\u001b[0m\u001b[0;34m\u001b[0m\u001b[0m\n\u001b[0m\u001b[1;32m      3\u001b[0m \u001b[0;32mimport\u001b[0m \u001b[0mjson\u001b[0m\u001b[0;34m\u001b[0m\u001b[0m\n\u001b[1;32m      4\u001b[0m \u001b[0;34m\u001b[0m\u001b[0m\n\u001b[1;32m      5\u001b[0m \u001b[0;32mdef\u001b[0m \u001b[0mfetch_weather\u001b[0m\u001b[0;34m(\u001b[0m\u001b[0mlocation\u001b[0m\u001b[0;34m)\u001b[0m\u001b[0;34m:\u001b[0m\u001b[0;34m\u001b[0m\u001b[0m\n",
      "\u001b[0;31mModuleNotFoundError\u001b[0m: No module named 'requests'"
     ]
    }
   ],
   "source": [
    "# -*- coding:utf-8 -*-\n",
    "import requests\n",
    "import json\n",
    "\n",
    "def fetch_weather(location):\n",
    "    result = requests.get('https://api.seniverse.com/v3/weather/daily.json', params={\n",
    "        'key': 'mbghskqqeagdjdqt',\n",
    "        'location': location,\n",
    "        'language': 'zh-Hans',\n",
    "        'unit': 'c'\n",
    "    }, timeout=60)\n",
    "    return result.text\n",
    "\n",
    "def process_weather(result):\n",
    "    weather_data = json.loads(result)\n",
    "    location = weather_data['results'][0]['location']['name']\n",
    "    date = weather_data['results'][0]['daily'][0]['date']\n",
    "    text_day = weather_data['results'][0]['daily'][0]['text_day']\n",
    "    text_night = weather_data['results'][0]['daily'][0]['text_night']\n",
    "    wind_direction = weather_data['results'][0]['daily'][0]['wind_direction']\n",
    "    high = weather_data['results'][0]['daily'][0]['high']\n",
    "    low = weather_data['results'][0]['daily'][0]['low']\n",
    "    weather_info = '{}{}的天气情况如下： 白天天气：{}，晚间天气：{}，最高气温：{}摄氏度，最低气温：{}摄氏度，风向：{}\\n'.format(location, date, text_day, text_night, high, low, wind_direction)\n",
    "    return weather_info\n",
    "\n",
    "history_info = ''\n",
    "print('----本程序数据由心知天气提供----')\n",
    "\n",
    "while True:\n",
    "\n",
    "    print('请输入城市名称或拼音查询天气；如需获取帮助，请输入help或h。')\n",
    "    user_city = input('>>>')\n",
    "\n",
    "    if user_city in ['help', 'h']:\n",
    "        print(\n",
    "        '''\n",
    "        输入城市名或拼音，查询该城市的天气情况；\n",
    "            比如：北京，四川成都，beijing，sichuan chengdu\n",
    "        输入help或h，获取帮助文档；\n",
    "        输入history或his，获取查询历史；\n",
    "        输入quit，退出天气查询系统。\n",
    "        '''\n",
    "        )\n",
    "\n",
    "    elif user_city in ['history', 'his']:\n",
    "        if len(history_info) > 0:\n",
    "            print('这是你的搜索记录：')\n",
    "            print(history_info)\n",
    "        else:\n",
    "            print('你还没有查询过天气')\n",
    "\n",
    "    elif user_city in ['quit', 'q',]:\n",
    "        if len(history_info) > 0:\n",
    "            print('即将退出本程序，谢谢使用，以下是你的查询历史：')\n",
    "            print(history_info)\n",
    "            quit(0)\n",
    "        else:\n",
    "            print('即将退出本程序，谢谢使用')\n",
    "            quit(0)\n",
    "\n",
    "    else:\n",
    "        try:\n",
    "            history_data = process_weather(fetch_weather(user_city))\n",
    "            print(history_data)\n",
    "            history_info = history_info + history_data\n",
    "\n",
    "        except Exception as e:\n",
    "            print('你的输入有误或暂不能提供该城市天气信息，请重新输入\\n')"
   ]
  },
  {
   "cell_type": "markdown",
   "metadata": {
    "collapsed": true
   },
   "source": [
    "### 2.更多问题探索"
   ]
  },
  {
   "cell_type": "markdown",
   "metadata": {
    "collapsed": true
   },
   "source": [
    "* 想再增加一个API的内容，希望用户能够获取更多的信息。\n",
    "* 定时执行"
   ]
  },
  {
   "cell_type": "markdown",
   "metadata": {
    "collapsed": true
   },
   "source": [
    "#### 2.1 定时执行\n",
    "\n",
    "[python定时执行任务命令](http://code.py40.com/2143.html)"
   ]
  },
  {
   "cell_type": "code",
   "execution_count": null,
   "metadata": {
    "collapsed": true
   },
   "outputs": [],
   "source": []
  },
  {
   "cell_type": "code",
   "execution_count": null,
   "metadata": {
    "collapsed": true
   },
   "outputs": [],
   "source": []
  },
  {
   "cell_type": "markdown",
   "metadata": {
    "collapsed": true
   },
   "source": [
    "## 04 其他"
   ]
  },
  {
   "cell_type": "markdown",
   "metadata": {
    "collapsed": true
   },
   "source": [
    "> urllib.request.urlopen(url, data=None, [timeout, ]*, cafile=None, capath=None, cadefault=False, context=None)"
   ]
  },
  {
   "cell_type": "code",
   "execution_count": 7,
   "metadata": {},
   "outputs": [
    {
     "name": "stdout",
     "output_type": "stream",
     "text": [
      "show time after 10 seconds:\n"
     ]
    },
    {
     "ename": "KeyboardInterrupt",
     "evalue": "",
     "output_type": "error",
     "traceback": [
      "\u001b[0;31m---------------------------------------------------------------------------\u001b[0m",
      "\u001b[0;31mKeyboardInterrupt\u001b[0m                         Traceback (most recent call last)",
      "\u001b[0;32m<ipython-input-7-e2979fd4513b>\u001b[0m in \u001b[0;36m<module>\u001b[0;34m()\u001b[0m\n\u001b[1;32m     21\u001b[0m \u001b[0;34m\u001b[0m\u001b[0m\n\u001b[1;32m     22\u001b[0m \u001b[0mprint\u001b[0m\u001b[0;34m(\u001b[0m\u001b[0;34m\"show time after 10 seconds:\"\u001b[0m\u001b[0;34m)\u001b[0m\u001b[0;34m\u001b[0m\u001b[0m\n\u001b[0;32m---> 23\u001b[0;31m \u001b[0mtimming_exe\u001b[0m\u001b[0;34m(\u001b[0m\u001b[0;34m\"echo %time%\"\u001b[0m\u001b[0;34m,\u001b[0m \u001b[0;36m10\u001b[0m\u001b[0;34m)\u001b[0m\u001b[0;34m\u001b[0m\u001b[0m\n\u001b[0m",
      "\u001b[0;32m<ipython-input-7-e2979fd4513b>\u001b[0m in \u001b[0;36mtimming_exe\u001b[0;34m(cmd, inc)\u001b[0m\n\u001b[1;32m     18\u001b[0m     \u001b[0mschedule\u001b[0m\u001b[0;34m.\u001b[0m\u001b[0menter\u001b[0m\u001b[0;34m(\u001b[0m\u001b[0minc\u001b[0m\u001b[0;34m,\u001b[0m \u001b[0;36m0\u001b[0m\u001b[0;34m,\u001b[0m \u001b[0mperform_command\u001b[0m\u001b[0;34m,\u001b[0m \u001b[0;34m(\u001b[0m\u001b[0mcmd\u001b[0m\u001b[0;34m,\u001b[0m \u001b[0minc\u001b[0m\u001b[0;34m)\u001b[0m\u001b[0;34m)\u001b[0m\u001b[0;34m\u001b[0m\u001b[0m\n\u001b[1;32m     19\u001b[0m     \u001b[0;31m# 持续运行，直到计划时间队列变成空为止\u001b[0m\u001b[0;34m\u001b[0m\u001b[0;34m\u001b[0m\u001b[0m\n\u001b[0;32m---> 20\u001b[0;31m     \u001b[0mschedule\u001b[0m\u001b[0;34m.\u001b[0m\u001b[0mrun\u001b[0m\u001b[0;34m(\u001b[0m\u001b[0;34m)\u001b[0m\u001b[0;34m\u001b[0m\u001b[0m\n\u001b[0m\u001b[1;32m     21\u001b[0m \u001b[0;34m\u001b[0m\u001b[0m\n\u001b[1;32m     22\u001b[0m \u001b[0mprint\u001b[0m\u001b[0;34m(\u001b[0m\u001b[0;34m\"show time after 10 seconds:\"\u001b[0m\u001b[0;34m)\u001b[0m\u001b[0;34m\u001b[0m\u001b[0m\n",
      "\u001b[0;32m~/anaconda/envs/python36/lib/python3.6/sched.py\u001b[0m in \u001b[0;36mrun\u001b[0;34m(self, blocking)\u001b[0m\n\u001b[1;32m    150\u001b[0m                 \u001b[0;32mif\u001b[0m \u001b[0;32mnot\u001b[0m \u001b[0mblocking\u001b[0m\u001b[0;34m:\u001b[0m\u001b[0;34m\u001b[0m\u001b[0m\n\u001b[1;32m    151\u001b[0m                     \u001b[0;32mreturn\u001b[0m \u001b[0mtime\u001b[0m \u001b[0;34m-\u001b[0m \u001b[0mnow\u001b[0m\u001b[0;34m\u001b[0m\u001b[0m\n\u001b[0;32m--> 152\u001b[0;31m                 \u001b[0mdelayfunc\u001b[0m\u001b[0;34m(\u001b[0m\u001b[0mtime\u001b[0m \u001b[0;34m-\u001b[0m \u001b[0mnow\u001b[0m\u001b[0;34m)\u001b[0m\u001b[0;34m\u001b[0m\u001b[0m\n\u001b[0m\u001b[1;32m    153\u001b[0m             \u001b[0;32melse\u001b[0m\u001b[0;34m:\u001b[0m\u001b[0;34m\u001b[0m\u001b[0m\n\u001b[1;32m    154\u001b[0m                 \u001b[0maction\u001b[0m\u001b[0;34m(\u001b[0m\u001b[0;34m*\u001b[0m\u001b[0margument\u001b[0m\u001b[0;34m,\u001b[0m \u001b[0;34m**\u001b[0m\u001b[0mkwargs\u001b[0m\u001b[0;34m)\u001b[0m\u001b[0;34m\u001b[0m\u001b[0m\n",
      "\u001b[0;31mKeyboardInterrupt\u001b[0m: "
     ]
    }
   ],
   "source": [
    "#coding=utf-8\n",
    "\"\"\"\n",
    "auth py40.com\n",
    "周期性执行实例\n",
    "\"\"\"\n",
    "import time, os, sched \n",
    "# 第一个参数确定任务的时间，返回从某个特定的时间到现在经历的秒数 \n",
    "# 第二个参数以某种人为的方式衡量时间 \n",
    "schedule = sched.scheduler(time.time, time.sleep) \n",
    " \n",
    "def perform_command(cmd, inc): \n",
    "    # 安排inc秒后再次运行自己，即周期运行 \n",
    "    schedule.enter(inc, 0, perform_command, (cmd, inc)) \n",
    "    os.system(cmd) \n",
    " \n",
    "def timming_exe(cmd, inc = 60): \n",
    "    # enter用来安排某事件的发生时间，从现在起第n秒开始启动 \n",
    "    schedule.enter(inc, 0, perform_command, (cmd, inc)) \n",
    "    # 持续运行，直到计划时间队列变成空为止 \n",
    "    schedule.run() \n",
    " \n",
    "print(\"show time after 10 seconds:\") \n",
    "timming_exe(\"echo %time%\", 10)"
   ]
  },
  {
   "cell_type": "code",
   "execution_count": null,
   "metadata": {
    "collapsed": true
   },
   "outputs": [],
   "source": []
  },
  {
   "cell_type": "code",
   "execution_count": null,
   "metadata": {
    "collapsed": true
   },
   "outputs": [],
   "source": []
  },
  {
   "cell_type": "code",
   "execution_count": null,
   "metadata": {
    "collapsed": true
   },
   "outputs": [],
   "source": []
  }
 ],
 "metadata": {
  "kernelspec": {
   "display_name": "Python 3",
   "language": "python",
   "name": "python3"
  },
  "language_info": {
   "codemirror_mode": {
    "name": "ipython",
    "version": 3
   },
   "file_extension": ".py",
   "mimetype": "text/x-python",
   "name": "python",
   "nbconvert_exporter": "python",
   "pygments_lexer": "ipython3",
   "version": "3.6.2"
  }
 },
 "nbformat": 4,
 "nbformat_minor": 2
}
